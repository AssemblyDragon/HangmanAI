{
 "cells": [
  {
   "cell_type": "markdown",
   "id": "b63dd7f7",
   "metadata": {},
   "source": [
    "# Hangman AI using ANN"
   ]
  },
  {
   "cell_type": "markdown",
   "id": "2e8a1d6a",
   "metadata": {},
   "source": [
    "- This AI will predict the next best possible character given the list of characters already predicted (or) game state.",
    "- AI was trained on data on how a good game of Hangman looks like."
   ]
  },
  {
   "cell_type": "markdown",
   "id": "63f30297",
   "metadata": {},
   "source": [
    "## Importing Libraries"
   ]
  },
  {
   "cell_type": "code",
   "execution_count": 1,
   "id": "3e16a3c9",
   "metadata": {},
   "outputs": [],
   "source": [
    "import numpy as np\n",
    "import pandas as pd\n",
    "import tensorflow as tf\n",
    "import random\n",
    "from sklearn.model_selection import train_test_split\n",
    "from sklearn.preprocessing import StandardScaler"
   ]
  },
  {
   "cell_type": "markdown",
   "id": "4067dbb5",
   "metadata": {},
   "source": [
    "## Creating Dataset"
   ]
  },
  {
   "cell_type": "markdown",
   "id": "4146ff39",
   "metadata": {},
   "source": [
    "### 1. Importing Word List"
   ]
  },
  {
   "cell_type": "code",
   "execution_count": 2,
   "id": "1c23b0f8",
   "metadata": {},
   "outputs": [],
   "source": [
    "f = open(\"D:/testLab/wordList.txt\", \"r\")\n",
    "words = []\n",
    "for i in f.readlines():\n",
    "    words.append((str(i).lower())[:-1])\n",
    "f.close()"
   ]
  },
  {
   "cell_type": "markdown",
   "id": "31d40a9a",
   "metadata": {},
   "source": [
    "### 2. Calculating max_word_length "
   ]
  },
  {
   "cell_type": "code",
   "execution_count": 3,
   "id": "d644e909",
   "metadata": {},
   "outputs": [],
   "source": [
    "max_word_length = -1\n",
    "for word in words:\n",
    "    if len(word) > max_word_length:\n",
    "        max_word_length = len(word)"
   ]
  },
  {
   "cell_type": "code",
   "execution_count": 4,
   "id": "0e1a9ff9",
   "metadata": {},
   "outputs": [
    {
     "name": "stdout",
     "output_type": "stream",
     "text": [
      "29\n"
     ]
    }
   ],
   "source": [
    "print(max_word_length)"
   ]
  },
  {
   "cell_type": "markdown",
   "id": "08a49269",
   "metadata": {},
   "source": [
    "### 3. Splitting words for training and testing"
   ]
  },
  {
   "cell_type": "code",
   "execution_count": 5,
   "id": "1cc6454c",
   "metadata": {},
   "outputs": [],
   "source": [
    "training_words, testing_words = train_test_split(words, test_size = 0.2, random_state = 0)"
   ]
  },
  {
   "cell_type": "code",
   "execution_count": 6,
   "id": "7f37120f",
   "metadata": {},
   "outputs": [
    {
     "data": {
      "text/plain": [
       "['unadhesively', 'timbersome', 'geordie', 'euxine', 'chemar']"
      ]
     },
     "execution_count": 6,
     "metadata": {},
     "output_type": "execute_result"
    }
   ],
   "source": [
    "training_words[:5]"
   ]
  },
  {
   "cell_type": "markdown",
   "id": "fa39c870",
   "metadata": {},
   "source": [
    "### 4. Creating the features and target variable"
   ]
  },
  {
   "cell_type": "markdown",
   "id": "c40110bf",
   "metadata": {},
   "source": [
    "- Converting each character in each word in integer format\n",
    "- Adding additional 0's before each word in integer format to make all the words length equal"
   ]
  },
  {
   "cell_type": "code",
   "execution_count": 7,
   "id": "815926f0",
   "metadata": {},
   "outputs": [],
   "source": [
    "temp_X = []\n",
    "t = [] # Tempory List\n",
    "for i, word in enumerate(words):\n",
    "    for j in (\"0\"*(max_word_length - len(word))):\n",
    "        t.append(j)\n",
    "    for char in word:\n",
    "        t.append(str(ord(char) - 96))\n",
    "    temp_X.append(t)\n",
    "    t = []"
   ]
  },
  {
   "cell_type": "code",
   "execution_count": 8,
   "id": "30f8d500",
   "metadata": {},
   "outputs": [
    {
     "name": "stdout",
     "output_type": "stream",
     "text": [
      "['0', '0', '0', '0', '0', '0', '0', '0', '0', '0', '0', '0', '0', '0', '0', '0', '0', '0', '0', '0', '0', '0', '0', '0', '0', '0', '1', '1', '7']\n"
     ]
    }
   ],
   "source": [
    "print(temp_X[5])"
   ]
  },
  {
   "cell_type": "markdown",
   "id": "1a77e8e4",
   "metadata": {},
   "source": [
    "- Converting to desired input format"
   ]
  },
  {
   "cell_type": "code",
   "execution_count": 9,
   "id": "eef22ba7",
   "metadata": {},
   "outputs": [],
   "source": [
    "y = []\n",
    "X = []\n",
    "bigX = []\n",
    "d = {}\n",
    "for i in range(len(temp_X)):\n",
    "    d = {} # Counting frequency of the letters in the word\n",
    "    for j in temp_X[i]:\n",
    "        if (j != '0'):\n",
    "            if j in d:\n",
    "                d[j] += 1\n",
    "            else:\n",
    "                d[j] = 1\n",
    "    d2 = {} # Sorting the dictionary in descending order based on value pair\n",
    "    for j in range(len(d)):\n",
    "        el = \"\"\n",
    "        elM = -1\n",
    "        for k in d:\n",
    "            if d[k] > elM and k not in d2:\n",
    "                elM = d[k]\n",
    "                el = k\n",
    "        d2[el] = elM\n",
    "    d = d2\n",
    "    for j in d:\n",
    "        newX = [0 for k in range(len(temp_X[i]))]\n",
    "        for k in d:\n",
    "            if j == k:\n",
    "                break\n",
    "            else:\n",
    "                for I in range(len(temp_X[i])):\n",
    "                    if temp_X[i][I] == k:\n",
    "                        newX[I] = k\n",
    "        y.append(j)\n",
    "        newX.insert(0, len(words[i]))\n",
    "        X.append(newX)"
   ]
  },
  {
   "cell_type": "markdown",
   "id": "28282d15",
   "metadata": {},
   "source": [
    "- Converting all datatype from chr to int"
   ]
  },
  {
   "cell_type": "code",
   "execution_count": 10,
   "id": "97ff4923",
   "metadata": {},
   "outputs": [],
   "source": [
    "new_X = []\n",
    "for i in X:\n",
    "    new_X.append(list(map(int, i)))\n",
    "X = new_X\n",
    "y = list(map(int, y))"
   ]
  },
  {
   "cell_type": "markdown",
   "id": "fc25e3fb",
   "metadata": {},
   "source": [
    "### Explanation:-\n",
    "max_length_word : cyclotrimethylenetrinitramine\n",
    "\n",
    "length : 29\n",
    "\n",
    "-----------\n",
    "Word : Fatee\n",
    "-----------\n",
    "In [7]:-\n",
    "\n",
    "['0', '0' .... '6', '1', '20', '5', '5'] \n",
    "\n",
    "{F: 6, A: 1, T: 20, E: 5}\n",
    "Total lenth of array => 29\n",
    "-----------\n",
    "In [9]:-\n",
    "\n",
    "d = {'F': 1, 'A': 1, 'T': 1, 'E': 2}\n",
    "\n",
    "d = {'E': 2, 'F': 1, 'A': 1, 'T': 1}  # Sorted form of d\n",
    "\n",
    "X = [\n",
    "\n",
    "[0, 0 .... 0, 0, 0, 0, 0]\n",
    "\n",
    "[0, 0 .... 0, 0, 0, 5, 5]\n",
    "\n",
    "[0, 0 .... 6, 0, 0, 5, 5]\n",
    "\n",
    "[0, 0 .... 6, 1, 0, 5, 5]\n",
    "\n",
    "]\n",
    "\n",
    "y = [5, 6, 1, 20]\n",
    "\n",
    "-----------\n",
    "1) Feature Scaling\n",
    "\n",
    "2) Conversion to numpy array"
   ]
  },
  {
   "cell_type": "markdown",
   "id": "a1caa372",
   "metadata": {},
   "source": [
    "- Converting to numpy array\n",
    "- Reshaping array"
   ]
  },
  {
   "cell_type": "code",
   "execution_count": 11,
   "id": "da1a485e",
   "metadata": {},
   "outputs": [
    {
     "data": {
      "text/plain": [
       "array([[ 1],\n",
       "       [ 1],\n",
       "       [ 1],\n",
       "       ...,\n",
       "       [ 1],\n",
       "       [26],\n",
       "       [26]])"
      ]
     },
     "execution_count": 11,
     "metadata": {},
     "output_type": "execute_result"
    }
   ],
   "source": [
    "X = np.array(X)\n",
    "y = np.array(y)\n",
    "y.reshape((-1, 1))"
   ]
  },
  {
   "cell_type": "code",
   "execution_count": 12,
   "id": "7e6fe18d",
   "metadata": {},
   "outputs": [
    {
     "name": "stdout",
     "output_type": "stream",
     "text": [
      "[6 0 0 0 0 0 0 0 0 0 0 0 0 0 0 0 0 0 0 0 0 0 0 0 1 1 0 0 0 0] 3\n",
      "[6 0 0 0 0 0 0 0 0 0 0 0 0 0 0 0 0 0 0 0 0 0 0 0 1 1 3 0 0 0] 8\n",
      "[6 0 0 0 0 0 0 0 0 0 0 0 0 0 0 0 0 0 0 0 0 0 0 0 1 1 3 8 0 0] 5\n",
      "[6 0 0 0 0 0 0 0 0 0 0 0 0 0 0 0 0 0 0 0 0 0 0 0 1 1 3 8 5 0] 14\n",
      "[4 0 0 0 0 0 0 0 0 0 0 0 0 0 0 0 0 0 0 0 0 0 0 0 0 0 0 0 0 0] 1\n"
     ]
    }
   ],
   "source": [
    "print(X[5], y[5])\n",
    "print(X[6], y[6])\n",
    "print(X[7], y[7])\n",
    "print(X[8], y[8])\n",
    "print(X[9], y[9])"
   ]
  },
  {
   "cell_type": "code",
   "execution_count": 13,
   "id": "7ecd00d2",
   "metadata": {},
   "outputs": [],
   "source": [
    "X_train = X"
   ]
  },
  {
   "cell_type": "markdown",
   "id": "802f8893",
   "metadata": {},
   "source": [
    "### 6. Feature Scaling"
   ]
  },
  {
   "cell_type": "code",
   "execution_count": 14,
   "id": "23d3807c",
   "metadata": {},
   "outputs": [],
   "source": [
    "sc = StandardScaler()\n",
    "X_train = sc.fit_transform(X_train)"
   ]
  },
  {
   "cell_type": "markdown",
   "id": "a77cb6e2",
   "metadata": {},
   "source": [
    "### 7. Converting y to categories"
   ]
  },
  {
   "cell_type": "code",
   "execution_count": 15,
   "id": "d2512c09",
   "metadata": {},
   "outputs": [],
   "source": [
    "y_train = tf.keras.utils.to_categorical(y - 1, num_classes=26)"
   ]
  },
  {
   "cell_type": "markdown",
   "id": "db092a4a",
   "metadata": {},
   "source": [
    "## Creating the ANN Model"
   ]
  },
  {
   "cell_type": "code",
   "execution_count": 16,
   "id": "fc748446",
   "metadata": {},
   "outputs": [],
   "source": [
    "ann = tf.keras.models.Sequential()\n",
    "ann.add(tf.keras.layers.Dense(units=128, activation='relu')) \n",
    "ann.add(tf.keras.layers.Dense(units=128, activation='relu')) \n",
    "ann.add(tf.keras.layers.Dense(units=128, activation='relu')) \n",
    "ann.add(tf.keras.layers.Dense(units=128, activation='relu'))\n",
    "ann.add(tf.keras.layers.Dense(units=26, activation='softmax'))\n",
    "ann.compile(optimizer = 'adam', loss = 'categorical_crossentropy', metrics = ['accuracy'])"
   ]
  },
  {
   "cell_type": "markdown",
   "id": "3e6f0e64",
   "metadata": {},
   "source": [
    "## Training the Model"
   ]
  },
  {
   "cell_type": "code",
   "execution_count": 17,
   "id": "7be50556",
   "metadata": {},
   "outputs": [
    {
     "name": "stdout",
     "output_type": "stream",
     "text": [
      "Epoch 1/10\n",
      "52538/52538 [==============================] - 96s 2ms/step - loss: 2.7818 - accuracy: 0.1609\n",
      "Epoch 2/10\n",
      "52538/52538 [==============================] - 98s 2ms/step - loss: 2.6756 - accuracy: 0.1913\n",
      "Epoch 3/10\n",
      "52538/52538 [==============================] - 79s 2ms/step - loss: 2.6359 - accuracy: 0.2012\n",
      "Epoch 4/10\n",
      "52538/52538 [==============================] - 78s 1ms/step - loss: 2.6128 - accuracy: 0.2070\n",
      "Epoch 5/10\n",
      "52538/52538 [==============================] - 78s 1ms/step - loss: 2.5976 - accuracy: 0.2111\n",
      "Epoch 6/10\n",
      "52538/52538 [==============================] - 78s 1ms/step - loss: 2.5867 - accuracy: 0.2142\n",
      "Epoch 7/10\n",
      "52538/52538 [==============================] - 78s 1ms/step - loss: 2.5788 - accuracy: 0.2159\n",
      "Epoch 8/10\n",
      "52538/52538 [==============================] - 80s 2ms/step - loss: 2.5727 - accuracy: 0.2176\n",
      "Epoch 9/10\n",
      "52538/52538 [==============================] - 80s 2ms/step - loss: 2.5671 - accuracy: 0.2191\n",
      "Epoch 10/10\n",
      "52538/52538 [==============================] - 84s 2ms/step - loss: 2.5665 - accuracy: 0.2197\n"
     ]
    },
    {
     "data": {
      "text/plain": [
       "<keras.src.callbacks.History at 0x29cce096eb0>"
      ]
     },
     "execution_count": 17,
     "metadata": {},
     "output_type": "execute_result"
    }
   ],
   "source": [
    "ann.fit(X_train, y_train, batch_size = 32, epochs = 10)"
   ]
  },
  {
   "cell_type": "markdown",
   "id": "18eb4196",
   "metadata": {},
   "source": [
    "## Hangman Game:-"
   ]
  },
  {
   "cell_type": "code",
   "execution_count": 18,
   "id": "a7f41c7e",
   "metadata": {},
   "outputs": [],
   "source": [
    "class Hangman:\n",
    "    def __init__(self):\n",
    "        self.word = random.choice(words)\n",
    "        self.codedWord = self.convert_to_integer(self.word)\n",
    "        self.guess = [0 for i in range(max_word_length)]\n",
    "        self.guess.insert(0, self.codedWord[0])\n",
    "    \n",
    "    def reset(self):\n",
    "        self.word = random.choice(words)\n",
    "        self.codedWord = self.convert_to_integer(self.word)\n",
    "        self.guess = [0 for i in range(max_word_length)]\n",
    "        self.guess.insert(0, self.codedWord[0])\n",
    "    \n",
    "    def convert_to_integer(self, word):\n",
    "        t = []\n",
    "        for i in (\"0\"*(max_word_length-len(word))):\n",
    "            t.append(i)\n",
    "        for i in word:\n",
    "            t.append(ord(i)-96)\n",
    "        t.insert(0, str(len(word)))\n",
    "        for i in range(len(t)):\n",
    "            t[i] = int(t[i])\n",
    "        return t\n",
    "    \n",
    "    def feature_scale_word(self, word):\n",
    "        word = [word]\n",
    "        word = sc.transform(word)\n",
    "        return word\n",
    "    \n",
    "    def check_guessed_character(self, char):\n",
    "        if char in self.codedWord:\n",
    "            for i in range(len(self.guess)):\n",
    "                if (self.codedWord[i] == char):\n",
    "                    self.guess[i] = char\n",
    "            return 1\n",
    "        else:\n",
    "            return 0\n",
    "    \n",
    "    def human_read_format(self):\n",
    "        string = \"\"\n",
    "        for i in range(len(self.codedWord)-len(self.word), len(self.guess)):\n",
    "            if self.guess[i] > 0:\n",
    "                string += chr(self.guess[i]+ord('a')-1)\n",
    "            else:\n",
    "                string += \" \"\n",
    "        return string\n",
    "    \n",
    "    def win(self):\n",
    "        if self.codedWord == self.guess:\n",
    "            return 1\n",
    "        else:\n",
    "            return 0\n",
    "        \n",
    "    def int_to_char(self, char):\n",
    "        return chr(char+ord('a')-1)"
   ]
  },
  {
   "cell_type": "code",
   "execution_count": 19,
   "id": "6e524f85",
   "metadata": {},
   "outputs": [],
   "source": [
    "hangman_game = Hangman()"
   ]
  },
  {
   "cell_type": "code",
   "execution_count": 20,
   "id": "ca85629b",
   "metadata": {},
   "outputs": [
    {
     "name": "stdout",
     "output_type": "stream",
     "text": [
      "Try: 1 Word: '          '\n",
      "1/1 [==============================] - 0s 76ms/step\n",
      "Guessed Character : e\n",
      "Try: 2 Word: '     e    '\n",
      "1/1 [==============================] - 0s 15ms/step\n",
      "Guessed Character : e\n",
      "Try: 3 Word: '     e    '\n",
      "1/1 [==============================] - 0s 15ms/step\n",
      "Guessed Character : e\n",
      "Try: 4 Word: '     e    '\n",
      "1/1 [==============================] - 0s 16ms/step\n",
      "Guessed Character : e\n",
      "Try: 5 Word: '     e    '\n",
      "1/1 [==============================] - 0s 15ms/step\n",
      "Guessed Character : e\n",
      "Try: 6 Word: '     e    '\n",
      "1/1 [==============================] - 0s 16ms/step\n",
      "Guessed Character : e\n",
      "Try: 7 Word: '     e    '\n",
      "1/1 [==============================] - 0s 17ms/step\n",
      "Guessed Character : e\n",
      "Try: 8 Word: '     e    '\n",
      "1/1 [==============================] - 0s 17ms/step\n",
      "Guessed Character : e\n",
      "Try: 9 Word: '     e    '\n",
      "1/1 [==============================] - 0s 18ms/step\n",
      "Guessed Character : e\n",
      "Try: 10 Word: '     e    '\n",
      "1/1 [==============================] - 0s 16ms/step\n",
      "Guessed Character : e\n",
      "Try: 11 Word: '     e    '\n",
      "1/1 [==============================] - 0s 16ms/step\n",
      "Guessed Character : e\n",
      "Try: 12 Word: '     e    '\n",
      "1/1 [==============================] - 0s 16ms/step\n",
      "Guessed Character : e\n",
      "Try: 13 Word: '     e    '\n",
      "1/1 [==============================] - 0s 16ms/step\n",
      "Guessed Character : e\n",
      "Try: 14 Word: '     e    '\n",
      "1/1 [==============================] - 0s 17ms/step\n",
      "Guessed Character : e\n",
      "Try: 15 Word: '     e    '\n",
      "1/1 [==============================] - 0s 19ms/step\n",
      "Guessed Character : e\n",
      "Try: 16 Word: '     e    '\n",
      "1/1 [==============================] - 0s 16ms/step\n",
      "Guessed Character : e\n",
      "Try: 17 Word: '     e    '\n",
      "1/1 [==============================] - 0s 17ms/step\n",
      "Guessed Character : e\n",
      "Try: 18 Word: '     e    '\n",
      "1/1 [==============================] - 0s 20ms/step\n",
      "Guessed Character : e\n",
      "Try: 19 Word: '     e    '\n",
      "1/1 [==============================] - 0s 18ms/step\n",
      "Guessed Character : e\n",
      "Try: 20 Word: '     e    '\n",
      "1/1 [==============================] - 0s 18ms/step\n",
      "Guessed Character : e\n",
      "Try: 21 Word: '     e    '\n",
      "1/1 [==============================] - 0s 17ms/step\n",
      "Guessed Character : e\n",
      "Try: 22 Word: '     e    '\n",
      "1/1 [==============================] - 0s 17ms/step\n",
      "Guessed Character : e\n",
      "Try: 23 Word: '     e    '\n",
      "1/1 [==============================] - 0s 16ms/step\n",
      "Guessed Character : e\n",
      "Try: 24 Word: '     e    '\n",
      "1/1 [==============================] - 0s 21ms/step\n",
      "Guessed Character : e\n",
      "Try: 25 Word: '     e    '\n",
      "1/1 [==============================] - 0s 19ms/step\n",
      "Guessed Character : e\n",
      "Try: 26 Word: '     e    '\n",
      "1/1 [==============================] - 0s 17ms/step\n",
      "Guessed Character : e\n",
      "Try: 27 Word: '     e    '\n",
      "1/1 [==============================] - 0s 21ms/step\n",
      "Guessed Character : e\n",
      "Try: 28 Word: '     e    '\n",
      "1/1 [==============================] - 0s 16ms/step\n",
      "Guessed Character : e\n",
      "Try: 29 Word: '     e    '\n",
      "1/1 [==============================] - 0s 15ms/step\n",
      "Guessed Character : e\n",
      "Try: 30 Word: '     e    '\n",
      "1/1 [==============================] - 0s 17ms/step\n",
      "Guessed Character : e\n",
      "Try: 31 Word: '     e    '\n",
      "1/1 [==============================] - 0s 18ms/step\n",
      "Guessed Character : e\n",
      "Try: 32 Word: '     e    '\n",
      "1/1 [==============================] - 0s 18ms/step\n",
      "Guessed Character : e\n",
      "Try: 33 Word: '     e    '\n",
      "1/1 [==============================] - 0s 17ms/step\n",
      "Guessed Character : e\n",
      "Try: 34 Word: '     e    '\n",
      "1/1 [==============================] - 0s 17ms/step\n",
      "Guessed Character : e\n",
      "Try: 35 Word: '     e    '\n",
      "1/1 [==============================] - 0s 18ms/step\n",
      "Guessed Character : e\n",
      "Try: 36 Word: '     e    '\n",
      "1/1 [==============================] - 0s 17ms/step\n",
      "Guessed Character : e\n",
      "Try: 37 Word: '     e    '\n",
      "1/1 [==============================] - 0s 17ms/step\n",
      "Guessed Character : e\n",
      "Try: 38 Word: '     e    '\n",
      "1/1 [==============================] - 0s 16ms/step\n",
      "Guessed Character : e\n",
      "Try: 39 Word: '     e    '\n",
      "1/1 [==============================] - 0s 15ms/step\n",
      "Guessed Character : e\n",
      "Try: 40 Word: '     e    '\n",
      "1/1 [==============================] - 0s 16ms/step\n",
      "Guessed Character : e\n",
      "Try: 41 Word: '     e    '\n",
      "1/1 [==============================] - 0s 17ms/step\n",
      "Guessed Character : e\n",
      "Try: 42 Word: '     e    '\n",
      "1/1 [==============================] - 0s 18ms/step\n",
      "Guessed Character : e\n",
      "Try: 43 Word: '     e    '\n",
      "1/1 [==============================] - 0s 16ms/step\n",
      "Guessed Character : e\n",
      "Try: 44 Word: '     e    '\n",
      "1/1 [==============================] - 0s 16ms/step\n",
      "Guessed Character : e\n",
      "Try: 45 Word: '     e    '\n",
      "1/1 [==============================] - 0s 16ms/step\n",
      "Guessed Character : e\n",
      "Try: 46 Word: '     e    '\n",
      "1/1 [==============================] - 0s 16ms/step\n",
      "Guessed Character : e\n",
      "Try: 47 Word: '     e    '\n",
      "1/1 [==============================] - 0s 16ms/step\n",
      "Guessed Character : e\n",
      "Try: 48 Word: '     e    '\n",
      "1/1 [==============================] - 0s 15ms/step\n",
      "Guessed Character : e\n",
      "Try: 49 Word: '     e    '\n",
      "1/1 [==============================] - 0s 16ms/step\n",
      "Guessed Character : e\n",
      "Try: 50 Word: '     e    '\n",
      "1/1 [==============================] - 0s 16ms/step\n",
      "Guessed Character : e\n"
     ]
    }
   ],
   "source": [
    "num = 0\n",
    "while not hangman_game.win():\n",
    "    num += 1\n",
    "    print(\"Try: \" + str(num) + \" Word: '\" + hangman_game.human_read_format()+\"'\")\n",
    "    y_pred = ann.predict(hangman_game.feature_scale_word(hangman_game.guess))\n",
    "    predicted_category = int(tf.argmax(y_pred, axis=1) + 1)\n",
    "    print(\"Guessed Character : \" + hangman_game.int_to_char(predicted_category))\n",
    "    hangman_game.check_guessed_character(predicted_category)\n",
    "    if (num>=50):\n",
    "        break"
   ]
  },
  {
   "cell_type": "code",
   "execution_count": null,
   "id": "b5ba0f4f",
   "metadata": {},
   "outputs": [],
   "source": []
  }
 ],
 "metadata": {
  "kernelspec": {
   "display_name": "Python 3 (ipykernel)",
   "language": "python",
   "name": "python3"
  },
  "language_info": {
   "codemirror_mode": {
    "name": "ipython",
    "version": 3
   },
   "file_extension": ".py",
   "mimetype": "text/x-python",
   "name": "python",
   "nbconvert_exporter": "python",
   "pygments_lexer": "ipython3",
   "version": "3.9.4"
  }
 },
 "nbformat": 4,
 "nbformat_minor": 5
}
